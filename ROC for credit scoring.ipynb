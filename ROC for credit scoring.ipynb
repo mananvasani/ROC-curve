{
 "cells": [
  {
   "cell_type": "code",
   "execution_count": 2,
   "metadata": {
    "collapsed": true
   },
   "outputs": [],
   "source": [
    "#Trial of importing data"
   ]
  },
  {
   "cell_type": "code",
   "execution_count": 3,
   "metadata": {},
   "outputs": [
    {
     "name": "stdout",
     "output_type": "stream",
     "text": [
      "The co-eff. are :  [-0.0228122  -0.18716568  0.03231897 -0.08350417 -0.18638399 -0.07462768]\n",
      "0.8432\n"
     ]
    },
    {
     "data": {
      "image/png": "[encoded data removed]",
      "text/plain": [
       "<matplotlib.figure.Figure at 0x1cff1205e80>"
      ]
     },
     "metadata": {},
     "output_type": "display_data"
    }
   ],
   "source": [
    "import pandas as pd\n",
    "from sklearn import datasets, linear_model, metrics\n",
    "from sklearn.metrics import roc_curve,auc\n",
    "import matplotlib.pyplot as pl\n",
    "\n",
    "train = pd.read_csv(\"C:\\\\Users\\\\manan\\\\Desktop\\\\Data Stuff\\\\Credit Scoring Project\\\\Rough work\\\\R1.csv\")\n",
    "test = pd.read_csv(\"C:\\\\Users\\\\manan\\\\Desktop\\\\Data Stuff\\\\Credit Scoring Project\\\\Rough work\\\\R2.csv\")\n",
    "\n",
    "df_train = pd.DataFrame(train)\n",
    "df_test = pd.DataFrame(test)\n",
    "\n",
    "x_train = df_train.iloc[:200,0:6]\n",
    "X_train = x_train.astype(float)\n",
    "Y_train = df_train.iloc[:200,6]\n",
    "\n",
    "x_test = df_test.iloc[:200,0:6]\n",
    "X_test = x_test.astype(float)\n",
    "Y_test_actual = df_test.iloc[:200,6]\n",
    "\n",
    "regr = linear_model.LinearRegression()\n",
    "regr.fit(X_train,Y_train)\n",
    "print('The co-eff. are : ', regr.coef_)\n",
    "\n",
    "Y_test_pred = regr.predict(X_train)\n",
    "fpr,tpr,threshold = metrics.roc_curve(Y_train,Y_test_pred)\n",
    "roc_auc = auc(fpr,tpr)\n",
    "print(roc_auc)\n",
    "\n",
    "pl.plot(fpr,tpr)\n",
    "pl.show()\n"
   ]
  },
  {
   "cell_type": "code",
   "execution_count": 4,
   "metadata": {},
   "outputs": [
    {
     "name": "stdout",
     "output_type": "stream",
     "text": [
      "The co-eff. are :  [-0.0228122  -0.18716568  0.03231897 -0.08350417 -0.18638399 -0.07462768]\n",
      "0.839333333333\n"
     ]
    },
    {
     "data": {
      "image/png": "[encoded data removed]",
      "text/plain": [
       "<matplotlib.figure.Figure at 0x1cff1881da0>"
      ]
     },
     "metadata": {},
     "output_type": "display_data"
    }
   ],
   "source": [
    "import pandas as pd\n",
    "from sklearn import datasets, linear_model, metrics\n",
    "from sklearn.metrics import roc_curve,auc\n",
    "import matplotlib.pyplot as pl\n",
    "\n",
    "train = pd.read_csv(\"C:\\\\Users\\\\manan\\\\Desktop\\\\Data Stuff\\\\Credit Scoring Project\\\\Rough work\\\\R1.csv\")\n",
    "test = pd.read_csv(\"C:\\\\Users\\\\manan\\\\Desktop\\\\Data Stuff\\\\Credit Scoring Project\\\\Rough work\\\\R2.csv\")\n",
    "\n",
    "df_train = pd.DataFrame(train)\n",
    "df_test = pd.DataFrame(test)\n",
    "\n",
    "x_train = df_train.iloc[:200,0:6]\n",
    "X_train = x_train.astype(float)\n",
    "Y_train = df_train.iloc[:200,6]\n",
    "\n",
    "x_test = df_test.iloc[:200,0:6]\n",
    "X_test = x_test.astype(float)\n",
    "Y_test_actual = df_test.iloc[:200,6]\n",
    "\n",
    "regr = linear_model.LinearRegression()\n",
    "regr.fit(X_train,Y_train)\n",
    "print('The co-eff. are : ', regr.coef_)\n",
    "\n",
    "Y_test_pred = regr.predict(X_test)\n",
    "fpr,tpr,threshold=metrics.roc_curve(Y_test_actual,Y_test_pred)\n",
    "roc_auc = auc(fpr,tpr)\n",
    "print(roc_auc)\n",
    "\n",
    "pl.plot(fpr,tpr)\n",
    "pl.show()\n"
   ]
  },
  {
   "cell_type": "code",
   "execution_count": null,
   "metadata": {
    "collapsed": true
   },
   "outputs": [],
   "source": []
  },
  {
   "cell_type": "code",
   "execution_count": null,
   "metadata": {
    "collapsed": true
   },
   "outputs": [],
   "source": []
  },
  {
   "cell_type": "code",
   "execution_count": null,
   "metadata": {
    "collapsed": true
   },
   "outputs": [],
   "source": []
  },
  {
   "cell_type": "code",
   "execution_count": null,
   "metadata": {
    "collapsed": true
   },
   "outputs": [],
   "source": []
  }
 ],
 "metadata": {
  "kernelspec": {
   "display_name": "Python 3",
   "language": "python",
   "name": "python3"
  },
  "language_info": {
   "codemirror_mode": {
    "name": "ipython",
    "version": 3
   },
   "file_extension": ".py",
   "mimetype": "text/x-python",
   "name": "python",
   "nbconvert_exporter": "python",
   "pygments_lexer": "ipython3",
   "version": "3.6.2"
  }
 },
 "nbformat": 4,
 "nbformat_minor": 2
}
